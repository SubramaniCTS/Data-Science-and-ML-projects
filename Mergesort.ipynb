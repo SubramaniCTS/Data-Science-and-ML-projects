{
  "nbformat": 4,
  "nbformat_minor": 0,
  "metadata": {
    "colab": {
      "name": "Mergesort.ipynb",
      "provenance": [],
      "collapsed_sections": [],
      "authorship_tag": "ABX9TyP9XanyIMsZGpC9gw5eJpBc",
      "include_colab_link": true
    },
    "kernelspec": {
      "name": "python3",
      "display_name": "Python 3"
    }
  },
  "cells": [
    {
      "cell_type": "markdown",
      "metadata": {
        "id": "view-in-github",
        "colab_type": "text"
      },
      "source": [
        "<a href=\"https://colab.research.google.com/github/SubramaniCTS/Data-Science-and-ML-projects/blob/master/Mergesort.ipynb\" target=\"_parent\"><img src=\"https://colab.research.google.com/assets/colab-badge.svg\" alt=\"Open In Colab\"/></a>"
      ]
    },
    {
      "cell_type": "code",
      "metadata": {
        "colab": {
          "base_uri": "https://localhost:8080/"
        },
        "id": "fgB8E6041SuN",
        "outputId": "cd397a78-38e6-470e-c863-b45da955b478"
      },
      "source": [
        "#Success code\r\n",
        "def merge_sort(arr): #divide and conquer equation/method/function\r\n",
        "  if (len(arr)<=1): return arr\r\n",
        "  mid = len(arr)//2\r\n",
        "  lef = merge_sort(arr[:mid])\r\n",
        "  rig = merge_sort(arr[mid:])\r\n",
        "\r\n",
        "      \r\n",
        "  return merge_sortedarray(lef,rig)\r\n",
        " \r\n",
        "def merge_sortedarray(a,b):  #merge the sorted arrays\r\n",
        "  i=0\r\n",
        "  j=0\r\n",
        "  sorted = []\r\n",
        "  while i<len(a) and j<len(b):\r\n",
        "    if a[i]<=b[j]:\r\n",
        "      sorted.append(a[i])\r\n",
        "      i+=1\r\n",
        "    elif b[j]<=a[i]:\r\n",
        "      sorted.append(b[j])\r\n",
        "      j+=1\r\n",
        "  while i<len(a):\r\n",
        "    sorted.append(a[i])\r\n",
        "    i+=1\r\n",
        "  while j<len(b):\r\n",
        "    sorted.append(b[j])\r\n",
        "    j+=1\r\n",
        "  return sorted\r\n",
        "\r\n",
        "n = [1,4,2,3,5,6,79,0]\r\n",
        "print(merge_sort(n))\r\n",
        "c = [4,21,2,20,19,6,3,2]\r\n",
        "print(merge_sort(c))\r\n",
        "\r\n"
      ],
      "execution_count": null,
      "outputs": [
        {
          "output_type": "stream",
          "text": [
            "[0, 1, 2, 3, 4, 5, 6, 79]\n",
            "[2, 2, 3, 4, 6, 19, 20, 21]\n"
          ],
          "name": "stdout"
        }
      ]
    },
    {
      "cell_type": "code",
      "metadata": {
        "colab": {
          "base_uri": "https://localhost:8080/"
        },
        "id": "RDgv_XHVORpr",
        "outputId": "85bfd114-c059-4372-f8f3-dd950ec8d75a"
      },
      "source": [
        "def merge_array(a,b):\r\n",
        "\r\n",
        " result = []\r\n",
        " i=0\r\n",
        " j=0\r\n",
        " jointarray = []\r\n",
        " print(\" len of a = {} and len of b ={}\".format(len(a),len(b)))\r\n",
        " while len(a)>i and len(b)>j: # when both array have equal index numbers follow the below task\r\n",
        "   \r\n",
        "     print(\"i Value is {} J value is {}\" .format(i,j))\r\n",
        "     jointarray.append(a[i])  #joining the values of the arrays until they have different index\r\n",
        "     \r\n",
        "     jointarray.append(b[j])\r\n",
        "     i+=1\r\n",
        "     j+=1\r\n",
        "\r\n",
        " print(\"loop terminated for i = {} and j = {}\".format(i,j))  #find when the loop terminates\r\n",
        " for x in a:\r\n",
        "   if i>=j and i<len(a): # [4>=4 and 5>=4] and (6>=4 rejected)] and [4 5] < 6]\r\n",
        "     jointarray.append(a[i])     #appending the values of the exceeding array that sorted\r\n",
        "     i+=1\r\n",
        "   elif j>=i and j<len(b):\r\n",
        "    jointarray.append(b[j])     #appending the values of the exceeding array that sorted\r\n",
        "    j+=1\r\n",
        "\r\n",
        "    \r\n",
        " \r\n",
        " return jointarray\r\n",
        " \r\n",
        "\r\n",
        "     \r\n",
        "\r\n",
        " \r\n",
        "\r\n",
        "  \r\n",
        " \r\n",
        "a= [2,3,5,7,10,11]\r\n",
        "b = [1,6,8,12]\r\n",
        "merge_array(a,b)"
      ],
      "execution_count": null,
      "outputs": [
        {
          "output_type": "stream",
          "text": [
            " len of a = 6 and len of b =4\n",
            "i Value is 0 J value is 0\n",
            "i Value is 1 J value is 1\n",
            "i Value is 2 J value is 2\n",
            "i Value is 3 J value is 3\n",
            "loop terminated for i = 4 and j = 4\n"
          ],
          "name": "stdout"
        },
        {
          "output_type": "execute_result",
          "data": {
            "text/plain": [
              "[2, 1, 3, 6, 5, 8, 7, 12, 10, 11]"
            ]
          },
          "metadata": {
            "tags": []
          },
          "execution_count": 1
        }
      ]
    },
    {
      "cell_type": "code",
      "metadata": {
        "id": "Y8mUTw6s1QbM"
      },
      "source": [
        ""
      ],
      "execution_count": null,
      "outputs": []
    },
    {
      "cell_type": "code",
      "metadata": {
        "colab": {
          "base_uri": "https://localhost:8080/"
        },
        "id": "2SOtp3GCRPAg",
        "outputId": "311df73a-9d9c-4c35-8dfa-0242df8fcfe5"
      },
      "source": [
        "#Real stuff\r\n",
        "def merge_sort(arr): #divide and conquer equation/method/function\r\n",
        "  if (len(arr)<=1): return arr\r\n",
        "  mid = len(arr)//2\r\n",
        "  lef = merge_sort(arr[:mid])\r\n",
        "  rig = merge_sort(arr[mid:])\r\n",
        "\r\n",
        "      \r\n",
        "  return merge_sortedarray(lef,rig)\r\n",
        " \r\n",
        "def merge_sortedarray(a,b):  #merge the sorted arrays\r\n",
        "  i=0\r\n",
        "  j=0\r\n",
        "  sorted = []\r\n",
        "  while i<len(a) and j<len(b):\r\n",
        "    if a[i]<=b[j]:\r\n",
        "      sorted.append(a[i])\r\n",
        "      i+=1\r\n",
        "    elif b[j]<=a[i]:\r\n",
        "      sorted.append(b[j])\r\n",
        "      j+=1\r\n",
        "  while i<len(a):\r\n",
        "    sorted.append(a[i])\r\n",
        "    i+=1\r\n",
        "  while j<len(b):\r\n",
        "    sorted.append(b[j])\r\n",
        "    j+=1\r\n",
        "  return sorted\r\n",
        "\r\n",
        "n = [1,4,2,3,5,6,79,0]\r\n",
        "print(merge_sort(n))\r\n",
        "c = [4,21,2,20,19,6,3,2]\r\n",
        "print(merge_sort(c))\r\n",
        "\r\n"
      ],
      "execution_count": null,
      "outputs": [
        {
          "output_type": "stream",
          "text": [
            "[1, 2, 3, 5, 6, 7, 8, 10, 11, 12]\n",
            "------------2nd array has more numbers---------------\n",
            "[1, 2, 3, 5, 6, 7, 8, 12, 10, 11]\n",
            "----------same values-----------------\n",
            "[1, 2, 3, 5, 6, 7, 8, 12, 10, 11]\n"
          ],
          "name": "stdout"
        }
      ]
    },
    {
      "cell_type": "code",
      "metadata": {
        "id": "NxyWH4CI1OE9"
      },
      "source": [
        ""
      ],
      "execution_count": null,
      "outputs": []
    },
    {
      "cell_type": "code",
      "metadata": {
        "id": "NA6eWJaYgZyp",
        "colab": {
          "base_uri": "https://localhost:8080/"
        },
        "outputId": "5c0bec94-d4cc-42e0-fd25-ffcfd6d6d89c"
      },
      "source": [
        "def merge_sort(arr): #divide and conquer equation/method/function\r\n",
        "  if (len(arr)<=1): return arr\r\n",
        "  mid = len(arr)//2\r\n",
        "  lef = merge_sort(a[:mid])\r\n",
        "  rig = merge_sort(a[mid:])\r\n",
        "\r\n",
        "      \r\n",
        "  return merge_sortedarray(lef,rig)\r\n",
        "\r\n",
        "\r\n",
        "def merge_sortedarray(a,b): #function to merge the 2 sorted arrays\r\n",
        "\r\n",
        " result = []\r\n",
        "\r\n",
        " i=0\r\n",
        " j=0\r\n",
        " jointarray = []\r\n",
        " #print(\" len of a = {} and len of b ={}\".format(len(a),len(b)))\r\n",
        " \r\n",
        "# when both array have equal index numbers follow the below task\r\n",
        " while len(a)>i and len(b)>j:\r\n",
        "#compares first element in one array with another if it is lesser increment the position\r\n",
        "    if (a[i]<=b[j]):\r\n",
        "      jointarray.append(a[i])\r\n",
        "      i+=1\r\n",
        "    else:\r\n",
        "      jointarray.append(b[j])\r\n",
        "      j+=1\r\n",
        "\r\n",
        " # i and j = maximum common value (mCv) output of this loop\r\n",
        "\r\n",
        " #Appending the values of the largest array\r\n",
        " while  i<len(a): # if index i is equal or greate than j \r\n",
        "     jointarray.append(a[i])\r\n",
        "     i+=1\r\n",
        " while  j<len(b): # if index j is equal or greate than i\r\n",
        "     jointarray.append(b[j])     \r\n",
        "     j+=1\r\n",
        " return jointarray\r\n",
        "\r\n",
        "n = [1,3,2,6,30,5,0,60]\r\n",
        "merge_sort(n)"
      ],
      "execution_count": null,
      "outputs": [
        {
          "output_type": "execute_result",
          "data": {
            "text/plain": [
              "[]"
            ]
          },
          "metadata": {
            "tags": []
          },
          "execution_count": 85
        }
      ]
    },
    {
      "cell_type": "code",
      "metadata": {
        "colab": {
          "base_uri": "https://localhost:8080/"
        },
        "id": "MfshnhUw9Bsc",
        "outputId": "e0387298-8975-40b0-90c0-eb2fe2104fdf"
      },
      "source": [
        "def merge(lst):\r\n",
        "  if len(lst)<=1:\r\n",
        "    return list\r\n",
        " \r\n",
        "  mid = int(len(lst)/2)\r\n",
        "  while(mid>=1):\r\n",
        "    print(mid)\r\n",
        "\r\n",
        "   #lef = merge(lst[:mid])\r\n",
        "  \r\n",
        "   #rig = merge(lst[mid:])\r\n"
      ],
      "execution_count": null,
      "outputs": [
        {
          "output_type": "stream",
          "text": [
            "-2\n",
            "-1\n"
          ],
          "name": "stdout"
        }
      ]
    },
    {
      "cell_type": "code",
      "metadata": {
        "id": "XRikhaa-Sg3s"
      },
      "source": [
        ""
      ],
      "execution_count": null,
      "outputs": []
    }
  ]
}